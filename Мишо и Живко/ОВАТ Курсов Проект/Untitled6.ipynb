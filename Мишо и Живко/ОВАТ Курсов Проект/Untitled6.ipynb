{
  "nbformat": 4,
  "nbformat_minor": 0,
  "metadata": {
    "colab": {
      "name": "Untitled6.ipynb",
      "provenance": [],
      "authorship_tag": "ABX9TyO5idORQDke5cbI5WWiHJPt",
      "include_colab_link": true
    },
    "kernelspec": {
      "name": "python3",
      "display_name": "Python 3"
    },
    "language_info": {
      "name": "python"
    }
  },
  "cells": [
    {
      "cell_type": "markdown",
      "metadata": {
        "id": "view-in-github",
        "colab_type": "text"
      },
      "source": [
        "<a href=\"https://colab.research.google.com/github/jitzerttok51/TU-Works/blob/main/%D0%9C%D0%B8%D1%88%D0%BE%20%D0%B8%20%D0%96%D0%B8%D0%B2%D0%BA%D0%BE/%D0%9E%D0%92%D0%90%D0%A2%20%D0%9A%D1%83%D1%80%D1%81%D0%BE%D0%B2%20%D0%9F%D1%80%D0%BE%D0%B5%D0%BA%D1%82/Untitled6.ipynb\" target=\"_parent\"><img src=\"https://colab.research.google.com/assets/colab-badge.svg\" alt=\"Open In Colab\"/></a>"
      ]
    },
    {
      "cell_type": "code",
      "execution_count": null,
      "metadata": {
        "id": "8q2zBudaO1h8"
      },
      "outputs": [],
      "source": [
        ""
      ]
    }
  ]
}